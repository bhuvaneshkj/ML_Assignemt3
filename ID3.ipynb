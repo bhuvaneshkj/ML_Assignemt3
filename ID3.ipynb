{
 "cells": [
  {
   "cell_type": "code",
   "execution_count": 11,
   "metadata": {},
   "outputs": [],
   "source": [
    "from id3 import Id3Estimator\n",
    "from id3 import export_graphviz\n",
    "from id3 import Id3Estimator\n",
    "estimator = Id3Estimator()\n",
    "import pandas as pd\n",
    "from sklearn import tree \n",
    "import graphviz\n",
    "from id3 import export_graphviz\n",
    "from sklearn import metrics as sm"
   ]
  },
  {
   "cell_type": "markdown",
   "metadata": {},
   "source": [
    "# Task-5"
   ]
  },
  {
   "cell_type": "code",
   "execution_count": 3,
   "metadata": {},
   "outputs": [
    {
     "data": {
      "text/html": [
       "<div>\n",
       "<style scoped>\n",
       "    .dataframe tbody tr th:only-of-type {\n",
       "        vertical-align: middle;\n",
       "    }\n",
       "\n",
       "    .dataframe tbody tr th {\n",
       "        vertical-align: top;\n",
       "    }\n",
       "\n",
       "    .dataframe thead th {\n",
       "        text-align: right;\n",
       "    }\n",
       "</style>\n",
       "<table border=\"1\" class=\"dataframe\">\n",
       "  <thead>\n",
       "    <tr style=\"text-align: right;\">\n",
       "      <th></th>\n",
       "      <th>ID</th>\n",
       "      <th>Is_Home_or_Away</th>\n",
       "      <th>Is_Opponent_in_AP25_Preseason</th>\n",
       "      <th>Media</th>\n",
       "      <th>Label</th>\n",
       "    </tr>\n",
       "  </thead>\n",
       "  <tbody>\n",
       "    <tr>\n",
       "      <td>0</td>\n",
       "      <td>25</td>\n",
       "      <td>Home</td>\n",
       "      <td>Out</td>\n",
       "      <td>NBC</td>\n",
       "      <td>Win</td>\n",
       "    </tr>\n",
       "    <tr>\n",
       "      <td>1</td>\n",
       "      <td>26</td>\n",
       "      <td>Home</td>\n",
       "      <td>In</td>\n",
       "      <td>NBC</td>\n",
       "      <td>Lose</td>\n",
       "    </tr>\n",
       "    <tr>\n",
       "      <td>2</td>\n",
       "      <td>27</td>\n",
       "      <td>Away</td>\n",
       "      <td>Out</td>\n",
       "      <td>ESPN</td>\n",
       "      <td>Win</td>\n",
       "    </tr>\n",
       "    <tr>\n",
       "      <td>3</td>\n",
       "      <td>28</td>\n",
       "      <td>Away</td>\n",
       "      <td>Out</td>\n",
       "      <td>FOX</td>\n",
       "      <td>Win</td>\n",
       "    </tr>\n",
       "    <tr>\n",
       "      <td>4</td>\n",
       "      <td>29</td>\n",
       "      <td>Home</td>\n",
       "      <td>Out</td>\n",
       "      <td>NBC</td>\n",
       "      <td>Win</td>\n",
       "    </tr>\n",
       "    <tr>\n",
       "      <td>5</td>\n",
       "      <td>30</td>\n",
       "      <td>Away</td>\n",
       "      <td>Out</td>\n",
       "      <td>ABC</td>\n",
       "      <td>Win</td>\n",
       "    </tr>\n",
       "    <tr>\n",
       "      <td>6</td>\n",
       "      <td>31</td>\n",
       "      <td>Home</td>\n",
       "      <td>In</td>\n",
       "      <td>NBC</td>\n",
       "      <td>Win</td>\n",
       "    </tr>\n",
       "    <tr>\n",
       "      <td>7</td>\n",
       "      <td>32</td>\n",
       "      <td>Home</td>\n",
       "      <td>Out</td>\n",
       "      <td>NBC</td>\n",
       "      <td>Win</td>\n",
       "    </tr>\n",
       "    <tr>\n",
       "      <td>8</td>\n",
       "      <td>33</td>\n",
       "      <td>Home</td>\n",
       "      <td>Out</td>\n",
       "      <td>NBC</td>\n",
       "      <td>Win</td>\n",
       "    </tr>\n",
       "    <tr>\n",
       "      <td>9</td>\n",
       "      <td>34</td>\n",
       "      <td>Away</td>\n",
       "      <td>In</td>\n",
       "      <td>ABC</td>\n",
       "      <td>Lose</td>\n",
       "    </tr>\n",
       "    <tr>\n",
       "      <td>10</td>\n",
       "      <td>35</td>\n",
       "      <td>Home</td>\n",
       "      <td>Out</td>\n",
       "      <td>NBC</td>\n",
       "      <td>Win</td>\n",
       "    </tr>\n",
       "    <tr>\n",
       "      <td>11</td>\n",
       "      <td>36</td>\n",
       "      <td>Away</td>\n",
       "      <td>In</td>\n",
       "      <td>ABC</td>\n",
       "      <td>Lose</td>\n",
       "    </tr>\n",
       "  </tbody>\n",
       "</table>\n",
       "</div>"
      ],
      "text/plain": [
       "    ID Is_Home_or_Away Is_Opponent_in_AP25_Preseason Media Label\n",
       "0   25            Home                           Out   NBC   Win\n",
       "1   26            Home                            In   NBC  Lose\n",
       "2   27            Away                           Out  ESPN   Win\n",
       "3   28            Away                           Out   FOX   Win\n",
       "4   29            Home                           Out   NBC   Win\n",
       "5   30            Away                           Out   ABC   Win\n",
       "6   31            Home                            In   NBC   Win\n",
       "7   32            Home                           Out   NBC   Win\n",
       "8   33            Home                           Out   NBC   Win\n",
       "9   34            Away                            In   ABC  Lose\n",
       "10  35            Home                           Out   NBC   Win\n",
       "11  36            Away                            In   ABC  Lose"
      ]
     },
     "execution_count": 3,
     "metadata": {},
     "output_type": "execute_result"
    }
   ],
   "source": [
    "train_df=pd.read_csv(r'C:\\Users\\chat2\\OneDrive\\Desktop\\MachineLearning\\HW-3\\task5_train.csv')\n",
    "train_df.head()\n",
    "test_df=pd.read_csv(r'C:\\Users\\chat2\\OneDrive\\Desktop\\MachineLearning\\HW-3\\task5_test.csv')\n",
    "test_df\n"
   ]
  },
  {
   "cell_type": "code",
   "execution_count": 35,
   "metadata": {},
   "outputs": [],
   "source": [
    "train_df_encoded=pd.get_dummies(train_df,columns=['Is_Home_or_Away','Is_Opponent_in_AP25_Preseason','Media','Label'])\n",
    "X=train_df_encoded.iloc[:,:-2]\n",
    "Y=train_df_encoded.iloc[:,-1:]\n",
    "test_df_encoded=pd.get_dummies(test_df,columns=['Is_Home_or_Away','Is_Opponent_in_AP25_Preseason','Media','Label'])\n",
    "X_T=train_df_encoded.iloc[:,:-2]\n",
    "Y_T=train_df_encoded.iloc[:,-1:]"
   ]
  },
  {
   "cell_type": "code",
   "execution_count": 36,
   "metadata": {},
   "outputs": [
    {
     "name": "stderr",
     "output_type": "stream",
     "text": [
      "C:\\Users\\chat2\\Anaconda3\\lib\\site-packages\\sklearn\\utils\\validation.py:724: DataConversionWarning: A column-vector y was passed when a 1d array was expected. Please change the shape of y to (n_samples, ), for example using ravel().\n",
      "  y = column_or_1d(y, warn=True)\n"
     ]
    },
    {
     "data": {
      "text/plain": [
       "<_io.TextIOWrapper name='tree.dot' mode='w' encoding='utf8'>"
      ]
     },
     "execution_count": 36,
     "metadata": {},
     "output_type": "execute_result"
    }
   ],
   "source": [
    "estimator.fit(X,Y,check_input=True)\n",
    "export_graphviz(estimator.tree_, 'tree.dot', X.columns)"
   ]
  },
  {
   "cell_type": "code",
   "execution_count": 37,
   "metadata": {},
   "outputs": [
    {
     "ename": "ValueError",
     "evalue": "Number of features of the model must match the input. Model n_features is 10 and input n_features is 9.",
     "output_type": "error",
     "traceback": [
      "\u001b[1;31m---------------------------------------------------------------------------\u001b[0m",
      "\u001b[1;31mValueError\u001b[0m                                Traceback (most recent call last)",
      "\u001b[1;32m<ipython-input-37-1b0790f98cb5>\u001b[0m in \u001b[0;36m<module>\u001b[1;34m\u001b[0m\n\u001b[1;32m----> 1\u001b[1;33m \u001b[0mypred\u001b[0m\u001b[1;33m=\u001b[0m\u001b[0mestimator\u001b[0m\u001b[1;33m.\u001b[0m\u001b[0mpredict\u001b[0m\u001b[1;33m(\u001b[0m\u001b[0mX_T\u001b[0m\u001b[1;33m)\u001b[0m\u001b[1;33m\u001b[0m\u001b[1;33m\u001b[0m\u001b[0m\n\u001b[0m\u001b[0;32m      2\u001b[0m \u001b[0mypred\u001b[0m\u001b[1;33m\u001b[0m\u001b[1;33m\u001b[0m\u001b[0m\n\u001b[0;32m      3\u001b[0m \u001b[1;31m#dot -Tpdf tree.dot -o tree.pdf\u001b[0m\u001b[1;33m\u001b[0m\u001b[1;33m\u001b[0m\u001b[1;33m\u001b[0m\u001b[0m\n",
      "\u001b[1;32m~\\Anaconda3\\lib\\site-packages\\id3\\id3.py\u001b[0m in \u001b[0;36mpredict\u001b[1;34m(self, X)\u001b[0m\n\u001b[0;32m    175\u001b[0m                              \u001b[1;34m\"match the input. Model n_features is {} and \"\u001b[0m\u001b[1;33m\u001b[0m\u001b[1;33m\u001b[0m\u001b[0m\n\u001b[0;32m    176\u001b[0m                              \u001b[1;34m\"input n_features is {}.\"\u001b[0m\u001b[1;33m\u001b[0m\u001b[1;33m\u001b[0m\u001b[0m\n\u001b[1;32m--> 177\u001b[1;33m                              .format(self.n_features, n_features))\n\u001b[0m\u001b[0;32m    178\u001b[0m \u001b[1;33m\u001b[0m\u001b[0m\n\u001b[0;32m    179\u001b[0m         \u001b[0mX_\u001b[0m \u001b[1;33m=\u001b[0m \u001b[0mnp\u001b[0m\u001b[1;33m.\u001b[0m\u001b[0mempty\u001b[0m\u001b[1;33m(\u001b[0m\u001b[0mX\u001b[0m\u001b[1;33m.\u001b[0m\u001b[0mshape\u001b[0m\u001b[1;33m)\u001b[0m\u001b[1;33m\u001b[0m\u001b[1;33m\u001b[0m\u001b[0m\n",
      "\u001b[1;31mValueError\u001b[0m: Number of features of the model must match the input. Model n_features is 10 and input n_features is 9."
     ]
    }
   ],
   "source": [
    "ypred=estimator.predict(X_T)\n",
    "ypred\n",
    "#dot -Tpdf tree.dot -o tree.pdf"
   ]
  },
  {
   "cell_type": "code",
   "execution_count": null,
   "metadata": {},
   "outputs": [],
   "source": []
  },
  {
   "cell_type": "code",
   "execution_count": null,
   "metadata": {},
   "outputs": [],
   "source": [
    "\n"
   ]
  },
  {
   "cell_type": "code",
   "execution_count": null,
   "metadata": {},
   "outputs": [],
   "source": []
  },
  {
   "cell_type": "code",
   "execution_count": null,
   "metadata": {},
   "outputs": [],
   "source": []
  },
  {
   "cell_type": "code",
   "execution_count": null,
   "metadata": {},
   "outputs": [],
   "source": []
  },
  {
   "cell_type": "markdown",
   "metadata": {},
   "source": [
    "## Task-4"
   ]
  },
  {
   "cell_type": "code",
   "execution_count": 38,
   "metadata": {},
   "outputs": [],
   "source": [
    "train_df_1=pd.read_csv(r'C:\\Users\\chat2\\OneDrive\\Desktop\\MachineLearning\\HW-3\\task_4_1_train.csv')\n",
    "\n",
    "test_df_1=pd.read_csv(r'C:\\Users\\chat2\\OneDrive\\Desktop\\MachineLearning\\HW-3\\task_4_1_test.csv')\n",
    "\n",
    "train_df_2=pd.read_csv(r'C:\\Users\\chat2\\OneDrive\\Desktop\\MachineLearning\\HW-3\\task_4_2_train.csv')\n",
    "\n",
    "test_df_2=pd.read_csv(r'C:\\Users\\chat2\\OneDrive\\Desktop\\MachineLearning\\HW-3\\task_4_2_test.csv')\n"
   ]
  },
  {
   "cell_type": "markdown",
   "metadata": {},
   "source": [
    "## Task 4 - 1"
   ]
  },
  {
   "cell_type": "code",
   "execution_count": 39,
   "metadata": {},
   "outputs": [
    {
     "data": {
      "text/plain": [
       "Index(['Label_Win'], dtype='object')"
      ]
     },
     "execution_count": 39,
     "metadata": {},
     "output_type": "execute_result"
    }
   ],
   "source": [
    "train_df_encoded_1=pd.get_dummies(train_df_1,columns=['HomeOrAway','InOrOut','Media','Label'])\n",
    "test_df_encoded_1=pd.get_dummies(test_df_1,columns=['HomeOrAway','InOrOut','Media'])\n",
    "X_1=train_df_encoded_1.iloc[:,:-2]\n",
    "Y_1=train_df_encoded_1.iloc[:,-1:]\n",
    "X_1.shape\n",
    "train_df_encoded_1.columns[:-2]\n",
    "Y_1.columns\n"
   ]
  },
  {
   "cell_type": "code",
   "execution_count": 42,
   "metadata": {},
   "outputs": [
    {
     "name": "stderr",
     "output_type": "stream",
     "text": [
      "C:\\Users\\chat2\\Anaconda3\\lib\\site-packages\\sklearn\\utils\\validation.py:724: DataConversionWarning: A column-vector y was passed when a 1d array was expected. Please change the shape of y to (n_samples, ), for example using ravel().\n",
      "  y = column_or_1d(y, warn=True)\n"
     ]
    },
    {
     "data": {
      "text/plain": [
       "<_io.TextIOWrapper name='tree_4_1.dot' mode='w' encoding='utf8'>"
      ]
     },
     "execution_count": 42,
     "metadata": {},
     "output_type": "execute_result"
    }
   ],
   "source": [
    "estimator.fit(X_1,Y_1,check_input=True)\n",
    "export_graphviz(estimator.tree_, 'tree_4_1.dot', X_1.columns)\n"
   ]
  },
  {
   "cell_type": "code",
   "execution_count": 43,
   "metadata": {},
   "outputs": [
    {
     "data": {
      "text/plain": [
       "array([0, 0, 1, 1, 1, 1], dtype=uint8)"
      ]
     },
     "execution_count": 43,
     "metadata": {},
     "output_type": "execute_result"
    }
   ],
   "source": [
    "ypred=estimator.predict(test_df_encoded_1)\n",
    "ypred"
   ]
  },
  {
   "cell_type": "markdown",
   "metadata": {},
   "source": [
    "## Task 4 -2"
   ]
  },
  {
   "cell_type": "code",
   "execution_count": 49,
   "metadata": {},
   "outputs": [
    {
     "data": {
      "text/html": [
       "<div>\n",
       "<style scoped>\n",
       "    .dataframe tbody tr th:only-of-type {\n",
       "        vertical-align: middle;\n",
       "    }\n",
       "\n",
       "    .dataframe tbody tr th {\n",
       "        vertical-align: top;\n",
       "    }\n",
       "\n",
       "    .dataframe thead th {\n",
       "        text-align: right;\n",
       "    }\n",
       "</style>\n",
       "<table border=\"1\" class=\"dataframe\">\n",
       "  <thead>\n",
       "    <tr style=\"text-align: right;\">\n",
       "      <th></th>\n",
       "      <th>id</th>\n",
       "      <th>Outlook_Overcast</th>\n",
       "      <th>Outlook_Rainy</th>\n",
       "      <th>Outlook_Sunny</th>\n",
       "      <th>Temperature_Cool</th>\n",
       "      <th>Temperature_Hot</th>\n",
       "      <th>Temperature_Mild</th>\n",
       "      <th>Humidity_High</th>\n",
       "      <th>Humidity_Normal</th>\n",
       "      <th>Windy_False</th>\n",
       "      <th>Windy_True</th>\n",
       "    </tr>\n",
       "  </thead>\n",
       "  <tbody>\n",
       "    <tr>\n",
       "      <td>0</td>\n",
       "      <td>1</td>\n",
       "      <td>0</td>\n",
       "      <td>0</td>\n",
       "      <td>1</td>\n",
       "      <td>0</td>\n",
       "      <td>1</td>\n",
       "      <td>0</td>\n",
       "      <td>1</td>\n",
       "      <td>0</td>\n",
       "      <td>1</td>\n",
       "      <td>0</td>\n",
       "    </tr>\n",
       "    <tr>\n",
       "      <td>1</td>\n",
       "      <td>2</td>\n",
       "      <td>0</td>\n",
       "      <td>0</td>\n",
       "      <td>1</td>\n",
       "      <td>0</td>\n",
       "      <td>1</td>\n",
       "      <td>0</td>\n",
       "      <td>1</td>\n",
       "      <td>0</td>\n",
       "      <td>0</td>\n",
       "      <td>1</td>\n",
       "    </tr>\n",
       "    <tr>\n",
       "      <td>2</td>\n",
       "      <td>3</td>\n",
       "      <td>1</td>\n",
       "      <td>0</td>\n",
       "      <td>0</td>\n",
       "      <td>0</td>\n",
       "      <td>1</td>\n",
       "      <td>0</td>\n",
       "      <td>1</td>\n",
       "      <td>0</td>\n",
       "      <td>1</td>\n",
       "      <td>0</td>\n",
       "    </tr>\n",
       "    <tr>\n",
       "      <td>3</td>\n",
       "      <td>4</td>\n",
       "      <td>0</td>\n",
       "      <td>1</td>\n",
       "      <td>0</td>\n",
       "      <td>0</td>\n",
       "      <td>0</td>\n",
       "      <td>1</td>\n",
       "      <td>1</td>\n",
       "      <td>0</td>\n",
       "      <td>1</td>\n",
       "      <td>0</td>\n",
       "    </tr>\n",
       "    <tr>\n",
       "      <td>4</td>\n",
       "      <td>5</td>\n",
       "      <td>0</td>\n",
       "      <td>1</td>\n",
       "      <td>0</td>\n",
       "      <td>1</td>\n",
       "      <td>0</td>\n",
       "      <td>0</td>\n",
       "      <td>0</td>\n",
       "      <td>1</td>\n",
       "      <td>1</td>\n",
       "      <td>0</td>\n",
       "    </tr>\n",
       "  </tbody>\n",
       "</table>\n",
       "</div>"
      ],
      "text/plain": [
       "   id  Outlook_Overcast  Outlook_Rainy  Outlook_Sunny  Temperature_Cool  \\\n",
       "0   1                 0              0              1                 0   \n",
       "1   2                 0              0              1                 0   \n",
       "2   3                 1              0              0                 0   \n",
       "3   4                 0              1              0                 0   \n",
       "4   5                 0              1              0                 1   \n",
       "\n",
       "   Temperature_Hot  Temperature_Mild  Humidity_High  Humidity_Normal  \\\n",
       "0                1                 0              1                0   \n",
       "1                1                 0              1                0   \n",
       "2                1                 0              1                0   \n",
       "3                0                 1              1                0   \n",
       "4                0                 0              0                1   \n",
       "\n",
       "   Windy_False  Windy_True  \n",
       "0            1           0  \n",
       "1            0           1  \n",
       "2            1           0  \n",
       "3            1           0  \n",
       "4            1           0  "
      ]
     },
     "execution_count": 49,
     "metadata": {},
     "output_type": "execute_result"
    }
   ],
   "source": [
    "train_df_encoded_2=pd.get_dummies(train_df_2,columns=['Outlook','Temperature','Humidity','Windy','Label'])\n",
    "#test_df_encoded_2=pd.get_dummies(test_df_2,columns=['id','Temperature','Humidity','Windy'])\n",
    "X_2=train_df_encoded_2.iloc[:,:-2]\n",
    "Y_2=train_df_encoded_2.iloc[:,-1:]\n",
    "# X_2.shape\n",
    "# train_df_encoded_2.columns[:-2]\n",
    "# Y_2.columns\n",
    "# test_df_2\n",
    "X_2.head()"
   ]
  },
  {
   "cell_type": "code",
   "execution_count": 46,
   "metadata": {},
   "outputs": [
    {
     "name": "stderr",
     "output_type": "stream",
     "text": [
      "C:\\Users\\chat2\\Anaconda3\\lib\\site-packages\\sklearn\\utils\\validation.py:724: DataConversionWarning: A column-vector y was passed when a 1d array was expected. Please change the shape of y to (n_samples, ), for example using ravel().\n",
      "  y = column_or_1d(y, warn=True)\n"
     ]
    },
    {
     "data": {
      "text/plain": [
       "<_io.TextIOWrapper name='tree_4_2.dot' mode='w' encoding='utf8'>"
      ]
     },
     "execution_count": 46,
     "metadata": {},
     "output_type": "execute_result"
    }
   ],
   "source": [
    "estimator.fit(X_2,Y_2,check_input=True)\n",
    "export_graphviz(estimator.tree_, 'tree_4_2.dot', X_2.columns)\n"
   ]
  },
  {
   "cell_type": "code",
   "execution_count": null,
   "metadata": {},
   "outputs": [],
   "source": []
  }
 ],
 "metadata": {
  "kernelspec": {
   "display_name": "Python 3",
   "language": "python",
   "name": "python3"
  },
  "language_info": {
   "codemirror_mode": {
    "name": "ipython",
    "version": 3
   },
   "file_extension": ".py",
   "mimetype": "text/x-python",
   "name": "python",
   "nbconvert_exporter": "python",
   "pygments_lexer": "ipython3",
   "version": "3.7.4"
  }
 },
 "nbformat": 4,
 "nbformat_minor": 4
}
